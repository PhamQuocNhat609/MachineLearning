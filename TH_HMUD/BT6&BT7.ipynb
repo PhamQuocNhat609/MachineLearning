{
 "cells": [
  {
   "cell_type": "code",
   "execution_count": 1,
   "metadata": {},
   "outputs": [],
   "source": [
    "import numpy as np\n",
    "import matplotlib.pyplot as plt\n",
    "from sklearn import datasets\n",
    "from sklearn.model_selection import train_test_split\n",
    "from sklearn.svm import SVC\n",
    "from sklearn.metrics import accuracy_score\n",
    "import time"
   ]
  },
  {
   "cell_type": "code",
   "execution_count": 2,
   "metadata": {},
   "outputs": [],
   "source": [
    "digits = datasets.load_digits()\n",
    "X = digits.data\n",
    "y = digits.target"
   ]
  },
  {
   "cell_type": "code",
   "execution_count": 3,
   "metadata": {},
   "outputs": [],
   "source": [
    "X_train, X_test, y_train, y_test = train_test_split(X, y, test_size=0.25, random_state=42)"
   ]
  },
  {
   "cell_type": "code",
   "execution_count": 4,
   "metadata": {},
   "outputs": [],
   "source": [
    "linear_svm = SVC(kernel='linear', random_state=42)\n",
    "start_time = time.time()\n",
    "linear_svm.fit(X_train, y_train)\n",
    "training_time_linear = time.time() - start_time"
   ]
  },
  {
   "cell_type": "code",
   "execution_count": 5,
   "metadata": {},
   "outputs": [],
   "source": [
    "y_pred_linear = linear_svm.predict(X_test)\n",
    "accuracy_linear = accuracy_score(y_test, y_pred_linear)"
   ]
  },
  {
   "cell_type": "code",
   "execution_count": 6,
   "metadata": {},
   "outputs": [
    {
     "name": "stdout",
     "output_type": "stream",
     "text": [
      "Linear SVM Accuracy: 0.98\n",
      "Training Time (Linear Kernel): 0.0200 seconds\n"
     ]
    }
   ],
   "source": [
    "\n",
    "print(f'Linear SVM Accuracy: {accuracy_linear:.2f}')\n",
    "print(f'Training Time (Linear Kernel): {training_time_linear:.4f} seconds')"
   ]
  },
  {
   "cell_type": "code",
   "execution_count": 7,
   "metadata": {},
   "outputs": [],
   "source": [
    "def evaluate_svm(kernel):\n",
    "    svm_model = SVC(kernel=kernel, random_state=42)\n",
    "    start_time = time.time()\n",
    "    svm_model.fit(X_train, y_train)\n",
    "    training_time = time.time() - start_time\n",
    "    y_pred = svm_model.predict(X_test)\n",
    "    accuracy = accuracy_score(y_test, y_pred)\n",
    "    return accuracy, training_time"
   ]
  },
  {
   "cell_type": "code",
   "execution_count": 8,
   "metadata": {},
   "outputs": [],
   "source": [
    "kernels = ['linear', 'rbf', 'poly']\n",
    "results = {}"
   ]
  },
  {
   "cell_type": "code",
   "execution_count": 9,
   "metadata": {},
   "outputs": [
    {
     "name": "stdout",
     "output_type": "stream",
     "text": [
      "Linear SVM Accuracy: 0.98\n",
      "Training Time (Linear Kernel): 0.0160 seconds\n",
      "Rbf SVM Accuracy: 0.99\n",
      "Training Time (Rbf Kernel): 0.0220 seconds\n",
      "Poly SVM Accuracy: 0.99\n",
      "Training Time (Poly Kernel): 0.0140 seconds\n"
     ]
    }
   ],
   "source": [
    "for kernel in kernels:\n",
    "    accuracy, training_time = evaluate_svm(kernel)\n",
    "    results[kernel] = {'accuracy': accuracy, 'training_time': training_time}\n",
    "    print(f'{kernel.capitalize()} SVM Accuracy: {accuracy:.2f}')\n",
    "    print(f'Training Time ({kernel.capitalize()} Kernel): {training_time:.4f} seconds')"
   ]
  },
  {
   "cell_type": "code",
   "execution_count": 10,
   "metadata": {},
   "outputs": [
    {
     "name": "stdout",
     "output_type": "stream",
     "text": [
      "\n",
      "Comparison of Kernels:\n",
      "Linear: Accuracy = 0.98, Training Time = 0.0160 seconds\n",
      "Rbf: Accuracy = 0.99, Training Time = 0.0220 seconds\n",
      "Poly: Accuracy = 0.99, Training Time = 0.0140 seconds\n"
     ]
    }
   ],
   "source": [
    "print(\"\\nComparison of Kernels:\")\n",
    "for kernel, metrics in results.items():\n",
    "    print(f\"{kernel.capitalize()}: Accuracy = {metrics['accuracy']:.2f}, Training Time = {metrics['training_time']:.4f} seconds\")"
   ]
  }
 ],
 "metadata": {
  "kernelspec": {
   "display_name": "Python 3",
   "language": "python",
   "name": "python3"
  },
  "language_info": {
   "codemirror_mode": {
    "name": "ipython",
    "version": 3
   },
   "file_extension": ".py",
   "mimetype": "text/x-python",
   "name": "python",
   "nbconvert_exporter": "python",
   "pygments_lexer": "ipython3",
   "version": "3.11.0"
  }
 },
 "nbformat": 4,
 "nbformat_minor": 2
}
